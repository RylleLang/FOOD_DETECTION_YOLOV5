{
 "cells": [
  {
   "cell_type": "markdown",
   "id": "ee60d57a",
   "metadata": {},
   "source": [
    "# YOLOv5 Training in VS Code (Windows, Python 3.8.10)\n",
    "This notebook will guide you to train YOLOv5 on your local machine using your custom dataset."
   ]
  },
  {
   "cell_type": "markdown",
   "id": "0f580ba2",
   "metadata": {},
   "source": [
    "## 1. Install Requirements (Run in Terminal)\n",
    "You only need to do this once.\n",
    "```powershell\n",
    "cd yolov5-master\n",
    "pip install -r requirements.txt\n",
    "```\n",
    "If you want to run this from a notebook cell, use the next cell."
   ]
  },
  {
   "cell_type": "code",
   "execution_count": null,
   "id": "e5e92fb2",
   "metadata": {},
   "outputs": [],
   "source": [
    "# Install requirements (uncomment if needed)\n",
    "# !pip install -r ../yolov5-master/requirements.txt"
   ]
  },
  {
   "cell_type": "markdown",
   "id": "248693bb",
   "metadata": {},
   "source": [
    "## 2. Check Your Dataset Structure\n",
    "Make sure your dataset folders and YAML are present."
   ]
  },
  {
   "cell_type": "code",
   "execution_count": null,
   "id": "a280ef78",
   "metadata": {},
   "outputs": [],
   "source": [
    "import os\n",
    "print(os.listdir('../group_work.v3i.yolov5pytorch'))\n",
    "with open('../group_work.v3i.yolov5pytorch/data.yaml') as f:\n",
    "    print(f.read())"
   ]
  },
  {
   "cell_type": "markdown",
   "id": "b2ef1810",
   "metadata": {},
   "source": [
    "## 3. Train YOLOv5 Model\n",
    "You can run this cell as a notebook cell, or copy the command to your PowerShell terminal."
   ]
  },
  {
   "cell_type": "code",
   "execution_count": null,
   "id": "bb182b66",
   "metadata": {},
   "outputs": [],
   "source": [
    "!python ../yolov5-master/train.py \\\n",
    "      --img 640 \\\n",
    "      --batch 16 \\\n",
    "      --epochs 50 \\\n",
    "      --data ../group_work.v3i.yolov5pytorch/data.yaml \\\n",
    "      --weights yolov5s.pt \\\n",
    "      --project ../yolov5-master/runs/train \\\n",
    "      --name exp"
   ]
  },
  {
   "cell_type": "markdown",
   "id": "537d81d0",
   "metadata": {},
   "source": [
    "## 4. Check Training Results\n",
    "After training, your weights will be in `../yolov5-master/runs/train/exp/weights/best.pt`.\n",
    "You can use these weights for inference in your Streamlit app."
   ]
  },
  {
   "cell_type": "code",
   "execution_count": null,
   "id": "d3fd45a6",
   "metadata": {},
   "outputs": [],
   "source": [
    "# List weights\n",
    "import os\n",
    "print(os.listdir('../yolov5-master/runs/train/exp/weights'))"
   ]
  },
  {
   "cell_type": "markdown",
   "id": "12047c07",
   "metadata": {},
   "source": [
    "## 5. (Optional) Run Inference\n",
    "You can test your trained model on test images."
   ]
  },
  {
   "cell_type": "code",
   "execution_count": null,
   "id": "b9a0c591",
   "metadata": {},
   "outputs": [],
   "source": [
    "!python ../yolov5-master/detect.py \\\n",
    "      --weights ../yolov5-master/runs/train/exp/weights/best.pt \\\n",
    "      --img 640 \\\n",
    "      --conf 0.25 \\\n",
    "      --source ../group_work.v3i.yolov5pytorch/test/images"
   ]
  }
 ],
 "metadata": {
  "language_info": {
   "name": "python"
  }
 },
 "nbformat": 4,
 "nbformat_minor": 5
}
